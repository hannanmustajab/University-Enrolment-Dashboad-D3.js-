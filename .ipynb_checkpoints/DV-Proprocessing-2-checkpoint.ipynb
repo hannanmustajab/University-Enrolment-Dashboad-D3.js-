{
 "cells": [
  {
   "cell_type": "code",
   "execution_count": 10,
   "id": "2a826be4",
   "metadata": {},
   "outputs": [],
   "source": [
    "import csv\n",
    "from collections import defaultdict\n",
    "\n",
    "# initialize an empty dictionary to store the data\n",
    "data = defaultdict(lambda: {\"private\": 0, \"public\": 0})"
   ]
  },
  {
   "cell_type": "code",
   "execution_count": 12,
   "id": "6da11237",
   "metadata": {},
   "outputs": [
    {
     "name": "stdout",
     "output_type": "stream",
     "text": [
      "defaultdict(<function <lambda> at 0x10570b8b0>, {'1950.0': {'private': 3148, 'public': 2984}, '1955.0': {'private': 3515, 'public': 3280}, '1960.0': {'private': 4025, 'public': 3636}, '1965.0': {'private': 4499, 'public': 4290}, '1970.0': {'private': 4982, 'public': 4950}, '1975.0': {'private': 5482, 'public': 5598}, '1980.0': {'private': 5853, 'public': 6196}, '1985.0': {'private': 6137, 'public': 7072}, '1990.0': {'private': 6440, 'public': 8288}, '1995.0': {'private': 6966, 'public': 10416}, '2000.0': {'private': 7425, 'public': 12930}, '2005.0': {'private': 7840, 'public': 15566}, '2010.0': {'private': 8366, 'public': 17458}, '2015.0': {'private': 8581, 'public': 18374}, '2020.0': {'private': 8587, 'public': 18376}})\n"
     ]
    }
   ],
   "source": [
    "# open the CSV file and read the data\n",
    "with open(\"csv/income_group_by_year.csv\", \"r\") as file:\n",
    "    reader = csv.DictReader(file)\n",
    "    for row in reader:\n",
    "#         print(row)\n",
    "        year = row[\"year\"]\n",
    "        count = int(row[\"count\"])\n",
    "        if row[\"private01\"] == \"0.0\":\n",
    "#             print(row)\n",
    "            data[year][\"private\"] = count\n",
    "        else:\n",
    "            data[year][\"public\"] += count\n",
    "            \n",
    "print(data)"
   ]
  },
  {
   "cell_type": "code",
   "execution_count": 3,
   "id": "c7c90617",
   "metadata": {},
   "outputs": [],
   "source": [
    "\n",
    "# write the merged data to a new CSV file\n",
    "with open(\"merged_data.csv\", \"w\") as file:\n",
    "    writer = csv.DictWriter(file, fieldnames=[\"year\", \"private\", \"public\"])\n",
    "    writer.writeheader()\n",
    "    for year, counts in data.items():\n",
    "        writer.writerow({\"year\": year, \"private\": counts[\"private\"], \"not private\": counts[\"not private\"]})\n",
    "\n",
    "        "
   ]
  },
  {
   "cell_type": "code",
   "execution_count": null,
   "id": "2c5534a0",
   "metadata": {},
   "outputs": [],
   "source": []
  }
 ],
 "metadata": {
  "kernelspec": {
   "display_name": "Python 3 (ipykernel)",
   "language": "python",
   "name": "python3"
  },
  "language_info": {
   "codemirror_mode": {
    "name": "ipython",
    "version": 3
   },
   "file_extension": ".py",
   "mimetype": "text/x-python",
   "name": "python",
   "nbconvert_exporter": "python",
   "pygments_lexer": "ipython3",
   "version": "3.9.10"
  }
 },
 "nbformat": 4,
 "nbformat_minor": 5
}
