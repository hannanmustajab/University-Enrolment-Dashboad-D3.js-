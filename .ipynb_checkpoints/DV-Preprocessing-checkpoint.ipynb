{
 "cells": [
  {
   "cell_type": "code",
   "execution_count": 17,
   "id": "363a8c1f",
   "metadata": {},
   "outputs": [],
   "source": [
    "import pandas as pd"
   ]
  },
  {
   "cell_type": "code",
   "execution_count": 18,
   "id": "01b61d4d",
   "metadata": {},
   "outputs": [],
   "source": [
    "verbose=True"
   ]
  },
  {
   "cell_type": "code",
   "execution_count": 19,
   "id": "0d14dd11",
   "metadata": {},
   "outputs": [
    {
     "name": "stderr",
     "output_type": "stream",
     "text": [
      "/var/folders/84/w6979yl547ddlndc7496yzsw0000gn/T/ipykernel_72763/1285440629.py:1: DtypeWarning: Columns (12,13) have mixed types. Specify dtype option on import or set low_memory=False.\n",
      "  df = pd.read_csv(r'enrollments.csv')\n"
     ]
    }
   ],
   "source": [
    "df = pd.read_csv(r'enrollments.csv')"
   ]
  },
  {
   "cell_type": "code",
   "execution_count": 20,
   "id": "0e070191",
   "metadata": {},
   "outputs": [],
   "source": [
    "# Convert year float to dt object\n",
    "df['year'] = pd.to_datetime(df['year'], format='%Y')\n",
    "df['year'] = df['year'].dt.year"
   ]
  },
  {
   "cell_type": "code",
   "execution_count": 21,
   "id": "3cb11685",
   "metadata": {},
   "outputs": [
    {
     "data": {
      "text/html": [
       "<div>\n",
       "<style scoped>\n",
       "    .dataframe tbody tr th:only-of-type {\n",
       "        vertical-align: middle;\n",
       "    }\n",
       "\n",
       "    .dataframe tbody tr th {\n",
       "        vertical-align: top;\n",
       "    }\n",
       "\n",
       "    .dataframe thead th {\n",
       "        text-align: right;\n",
       "    }\n",
       "</style>\n",
       "<table border=\"1\" class=\"dataframe\">\n",
       "  <thead>\n",
       "    <tr style=\"text-align: right;\">\n",
       "      <th></th>\n",
       "      <th>country</th>\n",
       "      <th>countrycode</th>\n",
       "      <th>region</th>\n",
       "      <th>incomegroup</th>\n",
       "      <th>iau_id</th>\n",
       "      <th>iau_id1</th>\n",
       "      <th>eng_name</th>\n",
       "      <th>orig_name</th>\n",
       "      <th>foundedyr</th>\n",
       "      <th>yrclosed</th>\n",
       "      <th>...</th>\n",
       "      <th>divisions</th>\n",
       "      <th>total_fields</th>\n",
       "      <th>unique_fields</th>\n",
       "      <th>specialized</th>\n",
       "      <th>merger</th>\n",
       "      <th>noiau</th>\n",
       "      <th>year</th>\n",
       "      <th>students5_interpolated</th>\n",
       "      <th>students5_extrapolated</th>\n",
       "      <th>students5_estimated</th>\n",
       "    </tr>\n",
       "  </thead>\n",
       "  <tbody>\n",
       "    <tr>\n",
       "      <th>0</th>\n",
       "      <td>afghanistan</td>\n",
       "      <td>AFG</td>\n",
       "      <td>South Asia</td>\n",
       "      <td>Low income</td>\n",
       "      <td>IAU-000810</td>\n",
       "      <td>IAU-000810-1</td>\n",
       "      <td>Alberoni University</td>\n",
       "      <td>Alberoni University</td>\n",
       "      <td>1998.0</td>\n",
       "      <td>NaN</td>\n",
       "      <td>...</td>\n",
       "      <td>NaN</td>\n",
       "      <td>NaN</td>\n",
       "      <td>NaN</td>\n",
       "      <td>0.0</td>\n",
       "      <td>0.0</td>\n",
       "      <td>0.0</td>\n",
       "      <td>2000.0</td>\n",
       "      <td>NaN</td>\n",
       "      <td>1546.0</td>\n",
       "      <td>1546.0</td>\n",
       "    </tr>\n",
       "    <tr>\n",
       "      <th>1</th>\n",
       "      <td>afghanistan</td>\n",
       "      <td>AFG</td>\n",
       "      <td>South Asia</td>\n",
       "      <td>Low income</td>\n",
       "      <td>IAU-000810</td>\n",
       "      <td>IAU-000810-1</td>\n",
       "      <td>Alberoni University</td>\n",
       "      <td>Alberoni University</td>\n",
       "      <td>1998.0</td>\n",
       "      <td>NaN</td>\n",
       "      <td>...</td>\n",
       "      <td>NaN</td>\n",
       "      <td>NaN</td>\n",
       "      <td>NaN</td>\n",
       "      <td>0.0</td>\n",
       "      <td>0.0</td>\n",
       "      <td>0.0</td>\n",
       "      <td>2005.0</td>\n",
       "      <td>NaN</td>\n",
       "      <td>2106.0</td>\n",
       "      <td>2106.0</td>\n",
       "    </tr>\n",
       "    <tr>\n",
       "      <th>2</th>\n",
       "      <td>afghanistan</td>\n",
       "      <td>AFG</td>\n",
       "      <td>South Asia</td>\n",
       "      <td>Low income</td>\n",
       "      <td>IAU-000810</td>\n",
       "      <td>IAU-000810-1</td>\n",
       "      <td>Alberoni University</td>\n",
       "      <td>Alberoni University</td>\n",
       "      <td>1998.0</td>\n",
       "      <td>NaN</td>\n",
       "      <td>...</td>\n",
       "      <td>NaN</td>\n",
       "      <td>NaN</td>\n",
       "      <td>NaN</td>\n",
       "      <td>0.0</td>\n",
       "      <td>0.0</td>\n",
       "      <td>0.0</td>\n",
       "      <td>2010.0</td>\n",
       "      <td>2317.0</td>\n",
       "      <td>2317.0</td>\n",
       "      <td>2317.0</td>\n",
       "    </tr>\n",
       "    <tr>\n",
       "      <th>3</th>\n",
       "      <td>afghanistan</td>\n",
       "      <td>AFG</td>\n",
       "      <td>South Asia</td>\n",
       "      <td>Low income</td>\n",
       "      <td>IAU-000810</td>\n",
       "      <td>IAU-000810-1</td>\n",
       "      <td>Alberoni University</td>\n",
       "      <td>Alberoni University</td>\n",
       "      <td>1998.0</td>\n",
       "      <td>NaN</td>\n",
       "      <td>...</td>\n",
       "      <td>NaN</td>\n",
       "      <td>NaN</td>\n",
       "      <td>NaN</td>\n",
       "      <td>0.0</td>\n",
       "      <td>0.0</td>\n",
       "      <td>0.0</td>\n",
       "      <td>2015.0</td>\n",
       "      <td>1835.0</td>\n",
       "      <td>1835.0</td>\n",
       "      <td>1835.0</td>\n",
       "    </tr>\n",
       "    <tr>\n",
       "      <th>4</th>\n",
       "      <td>afghanistan</td>\n",
       "      <td>AFG</td>\n",
       "      <td>South Asia</td>\n",
       "      <td>Low income</td>\n",
       "      <td>IAU-000810</td>\n",
       "      <td>IAU-000810-1</td>\n",
       "      <td>Alberoni University</td>\n",
       "      <td>Alberoni University</td>\n",
       "      <td>1998.0</td>\n",
       "      <td>NaN</td>\n",
       "      <td>...</td>\n",
       "      <td>9.0</td>\n",
       "      <td>22.0</td>\n",
       "      <td>21.0</td>\n",
       "      <td>0.0</td>\n",
       "      <td>0.0</td>\n",
       "      <td>0.0</td>\n",
       "      <td>2020.0</td>\n",
       "      <td>NaN</td>\n",
       "      <td>1901.0</td>\n",
       "      <td>1901.0</td>\n",
       "    </tr>\n",
       "  </tbody>\n",
       "</table>\n",
       "<p>5 rows × 27 columns</p>\n",
       "</div>"
      ],
      "text/plain": [
       "       country countrycode      region incomegroup      iau_id       iau_id1  \\\n",
       "0  afghanistan         AFG  South Asia  Low income  IAU-000810  IAU-000810-1   \n",
       "1  afghanistan         AFG  South Asia  Low income  IAU-000810  IAU-000810-1   \n",
       "2  afghanistan         AFG  South Asia  Low income  IAU-000810  IAU-000810-1   \n",
       "3  afghanistan         AFG  South Asia  Low income  IAU-000810  IAU-000810-1   \n",
       "4  afghanistan         AFG  South Asia  Low income  IAU-000810  IAU-000810-1   \n",
       "\n",
       "              eng_name            orig_name  foundedyr  yrclosed  ...  \\\n",
       "0  Alberoni University  Alberoni University     1998.0       NaN  ...   \n",
       "1  Alberoni University  Alberoni University     1998.0       NaN  ...   \n",
       "2  Alberoni University  Alberoni University     1998.0       NaN  ...   \n",
       "3  Alberoni University  Alberoni University     1998.0       NaN  ...   \n",
       "4  Alberoni University  Alberoni University     1998.0       NaN  ...   \n",
       "\n",
       "   divisions total_fields unique_fields specialized  merger  noiau    year  \\\n",
       "0        NaN          NaN           NaN         0.0     0.0    0.0  2000.0   \n",
       "1        NaN          NaN           NaN         0.0     0.0    0.0  2005.0   \n",
       "2        NaN          NaN           NaN         0.0     0.0    0.0  2010.0   \n",
       "3        NaN          NaN           NaN         0.0     0.0    0.0  2015.0   \n",
       "4        9.0         22.0          21.0         0.0     0.0    0.0  2020.0   \n",
       "\n",
       "   students5_interpolated  students5_extrapolated  students5_estimated  \n",
       "0                     NaN                  1546.0               1546.0  \n",
       "1                     NaN                  2106.0               2106.0  \n",
       "2                  2317.0                  2317.0               2317.0  \n",
       "3                  1835.0                  1835.0               1835.0  \n",
       "4                     NaN                  1901.0               1901.0  \n",
       "\n",
       "[5 rows x 27 columns]"
      ]
     },
     "execution_count": 21,
     "metadata": {},
     "output_type": "execute_result"
    }
   ],
   "source": [
    "df.head()"
   ]
  },
  {
   "cell_type": "code",
   "execution_count": 22,
   "id": "d1129706",
   "metadata": {},
   "outputs": [],
   "source": [
    "# Drop useless fields\n",
    "df.drop(['iau_id', 'iau_id1','yrclosed','orig_name','students5_interpolated','students5_extrapolated'], axis=1, inplace=True)\n"
   ]
  },
  {
   "cell_type": "code",
   "execution_count": 29,
   "id": "59fab0fa",
   "metadata": {},
   "outputs": [],
   "source": [
    "df.country = df.country.str.upper()\n"
   ]
  },
  {
   "cell_type": "code",
   "execution_count": 30,
   "id": "f900929a",
   "metadata": {},
   "outputs": [
    {
     "name": "stdout",
     "output_type": "stream",
     "text": [
      "<class 'pandas.core.frame.DataFrame'>\n",
      "RangeIndex: 161560 entries, 0 to 161559\n",
      "Data columns (total 21 columns):\n",
      " #   Column               Non-Null Count   Dtype  \n",
      "---  ------               --------------   -----  \n",
      " 0   country              161560 non-null  object \n",
      " 1   countrycode          159698 non-null  object \n",
      " 2   region               159698 non-null  object \n",
      " 3   incomegroup          159691 non-null  object \n",
      " 4   eng_name             161553 non-null  object \n",
      " 5   foundedyr            161553 non-null  float64\n",
      " 6   private01            161553 non-null  float64\n",
      " 7   coordinates          138352 non-null  object \n",
      " 8   latitude             138352 non-null  object \n",
      " 9   longitude            138352 non-null  object \n",
      " 10  phd_granting         161553 non-null  float64\n",
      " 11  m_granting           21208 non-null   float64\n",
      " 12  b_granting           21208 non-null   float64\n",
      " 13  divisions            21208 non-null   float64\n",
      " 14  total_fields         21208 non-null   float64\n",
      " 15  unique_fields        21208 non-null   float64\n",
      " 16  specialized          161553 non-null  float64\n",
      " 17  merger               161553 non-null  float64\n",
      " 18  noiau                161553 non-null  float64\n",
      " 19  year                 161553 non-null  float64\n",
      " 20  students5_estimated  142831 non-null  float64\n",
      "dtypes: float64(13), object(8)\n",
      "memory usage: 25.9+ MB\n"
     ]
    }
   ],
   "source": [
    "df.info()"
   ]
  },
  {
   "cell_type": "code",
   "execution_count": 31,
   "id": "8a95b66d",
   "metadata": {},
   "outputs": [
    {
     "name": "stdout",
     "output_type": "stream",
     "text": [
      "country\n",
      "UNITED STATES         20206\n",
      "CHINA                 11159\n",
      "PHILIPPINES            9095\n",
      "RUSSIAN FEDERATION     8683\n",
      "JAPAN                  8606\n",
      "                      ...  \n",
      "ITALY\"                    4\n",
      "ARGENTINA\"                4\n",
      "COMOROS                   4\n",
      "DJIBOUTI                  3\n",
      "SEYCHELLES                3\n",
      "Length: 198, dtype: int64\n"
     ]
    }
   ],
   "source": [
    "# Count enrolments from each country\n",
    "country_counts = df.value_counts('country')\n",
    "country_counts.to_csv('country_counts.csv')\n",
    "if verbose:\n",
    "    print(country_counts)"
   ]
  },
  {
   "cell_type": "code",
   "execution_count": 32,
   "id": "76fc6e30",
   "metadata": {},
   "outputs": [],
   "source": [
    "# Count enrolments from each income group\n",
    "income_group_counts = df.value_counts('incomegroup')\n",
    "income_group_counts.to_csv('income_group_count.csv')"
   ]
  },
  {
   "cell_type": "code",
   "execution_count": 33,
   "id": "c022ec69",
   "metadata": {},
   "outputs": [
    {
     "data": {
      "image/png": "[encoded data removed]",
      "text/plain": [
       "<Figure size 432x288 with 1 Axes>"
      ]
     },
     "metadata": {
      "needs_background": "light"
     },
     "output_type": "display_data"
    }
   ],
   "source": [
    "# year wise enrolment\n",
    "df.groupby(['year']).size().plot(kind='bar')\n",
    "df.groupby(['year']).size().to_csv('year_enrolment.csv')"
   ]
  },
  {
   "cell_type": "code",
   "execution_count": 34,
   "id": "9cf2d215",
   "metadata": {},
   "outputs": [
    {
     "data": {
      "image/png": "[encoded data removed]",
      "text/plain": [
       "<Figure size 432x288 with 1 Axes>"
      ]
     },
     "metadata": {
      "needs_background": "light"
     },
     "output_type": "display_data"
    }
   ],
   "source": [
    "df.groupby(['year', 'incomegroup']).size().unstack().plot(kind='bar', stacked=True)\n",
    "df.groupby(['year', 'incomegroup']).size().to_csv('income_group_by_year.csv')"
   ]
  },
  {
   "cell_type": "code",
   "execution_count": 35,
   "id": "f9f126b3",
   "metadata": {},
   "outputs": [
    {
     "data": {
      "image/png": "[encoded data removed]",
      "text/plain": [
       "<Figure size 432x288 with 1 Axes>"
      ]
     },
     "metadata": {
      "needs_background": "light"
     },
     "output_type": "display_data"
    }
   ],
   "source": [
    "df.groupby(['year', 'private01']).size().unstack().plot(kind='bar', stacked=True)\n",
    "df.groupby(['year', 'private01']).size().to_csv('private_by_year.csv')"
   ]
  },
  {
   "cell_type": "code",
   "execution_count": 37,
   "id": "23a07d99",
   "metadata": {},
   "outputs": [],
   "source": [
    "df.groupby(['country', 'private01']).size().to_csv('private_by_country.csv')"
   ]
  },
  {
   "cell_type": "code",
   "execution_count": null,
   "id": "19282235",
   "metadata": {},
   "outputs": [],
   "source": []
  }
 ],
 "metadata": {
  "kernelspec": {
   "display_name": "Python 3 (ipykernel)",
   "language": "python",
   "name": "python3"
  },
  "language_info": {
   "codemirror_mode": {
    "name": "ipython",
    "version": 3
   },
   "file_extension": ".py",
   "mimetype": "text/x-python",
   "name": "python",
   "nbconvert_exporter": "python",
   "pygments_lexer": "ipython3",
   "version": "3.9.10"
  }
 },
 "nbformat": 4,
 "nbformat_minor": 5
}
